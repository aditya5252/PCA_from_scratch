{
 "cells": [
  {
   "cell_type": "code",
   "execution_count": 7,
   "id": "e3ee86e7",
   "metadata": {},
   "outputs": [],
   "source": [
    "from src.import_file import *\n",
    "from src import data_read\n",
    "from src import high_dim_feature_with_labels\n",
    "from src import PCA_self\n",
    "\n",
    "img_list,img_targets=data_read.get_data_()\n",
    "N=len(img_targets)\n",
    "X,Y=high_dim_feature_with_labels.norm_highx_y_(img_list,img_targets)\n",
    "'K is the lower dimension'\n",
    "X_low=PCA_self.pca_scratch_high_dim(X,15,N)\n",
    "\n",
    "from sklearn.decomposition import PCA as PCA_library\n",
    "pca = PCA_library(n_components=15)\n",
    "X_low_lib=pca.fit_transform(X)\n"
   ]
  },
  {
   "cell_type": "code",
   "execution_count": 6,
   "id": "47cc646b",
   "metadata": {},
   "outputs": [],
   "source": [
    "# for i in range(20):\n",
    "#     plt.title(f'{int(Y[i])}')\n",
    "# #     plt.imshow(X[i].reshape(101,101).astype(int),cmap='gray')\n",
    "#     plt.imshow(img_list[i],cmap='gray')\n",
    "#     plt.show()"
   ]
  },
  {
   "cell_type": "code",
   "execution_count": null,
   "id": "79e1f5fe",
   "metadata": {},
   "outputs": [],
   "source": []
  }
 ],
 "metadata": {
  "kernelspec": {
   "display_name": "Python 3 (ipykernel)",
   "language": "python",
   "name": "python3"
  },
  "language_info": {
   "codemirror_mode": {
    "name": "ipython",
    "version": 3
   },
   "file_extension": ".py",
   "mimetype": "text/x-python",
   "name": "python",
   "nbconvert_exporter": "python",
   "pygments_lexer": "ipython3",
   "version": "3.9.7"
  }
 },
 "nbformat": 4,
 "nbformat_minor": 5
}
