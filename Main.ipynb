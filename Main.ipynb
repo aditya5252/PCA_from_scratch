{
 "cells": [
  {
   "cell_type": "code",
   "execution_count": 1,
   "id": "e3ee86e7",
   "metadata": {},
   "outputs": [],
   "source": [
    "from src.import_file import *\n",
    "from src import data_read\n",
    "from src import high_dim_feature_with_labels\n",
    "from src import PCA"
   ]
  },
  {
   "cell_type": "code",
   "execution_count": 5,
   "id": "da14b2f4",
   "metadata": {},
   "outputs": [],
   "source": [
    "img_list,img_targets=data_read.get_data_()\n",
    "N=len(img_targets)\n",
    "X,Y=high_dim_feature_with_labels.norm_highx_y_(img_list,img_targets)\n",
    "'K is the lower dimension'\n",
    "X_low=PCA.pca_scratch_high_dim(X,12,N)"
   ]
  },
  {
   "cell_type": "code",
   "execution_count": 6,
   "id": "386e5cfb",
   "metadata": {},
   "outputs": [
    {
     "data": {
      "text/plain": [
       "(20, 12)"
      ]
     },
     "execution_count": 6,
     "metadata": {},
     "output_type": "execute_result"
    }
   ],
   "source": [
    "X_low.shape"
   ]
  },
  {
   "cell_type": "code",
   "execution_count": null,
   "id": "67edcdfc",
   "metadata": {},
   "outputs": [],
   "source": [
    "PCA."
   ]
  }
 ],
 "metadata": {
  "kernelspec": {
   "display_name": "Python 3 (ipykernel)",
   "language": "python",
   "name": "python3"
  },
  "language_info": {
   "codemirror_mode": {
    "name": "ipython",
    "version": 3
   },
   "file_extension": ".py",
   "mimetype": "text/x-python",
   "name": "python",
   "nbconvert_exporter": "python",
   "pygments_lexer": "ipython3",
   "version": "3.9.7"
  }
 },
 "nbformat": 4,
 "nbformat_minor": 5
}
