{
 "cells": [
  {
   "cell_type": "code",
   "execution_count": 1,
   "id": "68455d37",
   "metadata": {},
   "outputs": [
    {
     "data": {
      "text/plain": [
       "\"For applying Fisher's LDA, \\nFirst find Feature and corresponding Class\\nThen find Class means \""
      ]
     },
     "execution_count": 1,
     "metadata": {},
     "output_type": "execute_result"
    }
   ],
   "source": [
    "'''For applying Fisher's LDA, \n",
    "First find Feature and corresponding Class\n",
    "Then find Class means '''"
   ]
  },
  {
   "cell_type": "code",
   "execution_count": 1,
   "id": "92a824d2",
   "metadata": {},
   "outputs": [],
   "source": [
    "import LDA_self"
   ]
  },
  {
   "cell_type": "code",
   "execution_count": 3,
   "id": "fc619261",
   "metadata": {},
   "outputs": [],
   "source": [
    "from src.import_file import *"
   ]
  },
  {
   "cell_type": "code",
   "execution_count": 4,
   "id": "eaca70a1",
   "metadata": {},
   "outputs": [
    {
     "ename": "AttributeError",
     "evalue": "module 'LDA_self' has no attribute 'FiscLDA'",
     "output_type": "error",
     "traceback": [
      "\u001b[1;31m---------------------------------------------------------------------------\u001b[0m",
      "\u001b[1;31mAttributeError\u001b[0m                            Traceback (most recent call last)",
      "\u001b[1;32m~\\AppData\\Local\\Temp/ipykernel_3496/1629146207.py\u001b[0m in \u001b[0;36m<module>\u001b[1;34m\u001b[0m\n\u001b[0;32m      1\u001b[0m \u001b[0mY\u001b[0m\u001b[1;33m=\u001b[0m\u001b[0mnp\u001b[0m\u001b[1;33m.\u001b[0m\u001b[0mloadtxt\u001b[0m\u001b[1;33m(\u001b[0m\u001b[0mos\u001b[0m\u001b[1;33m.\u001b[0m\u001b[0mpath\u001b[0m\u001b[1;33m.\u001b[0m\u001b[0mjoin\u001b[0m\u001b[1;33m(\u001b[0m\u001b[0mos\u001b[0m\u001b[1;33m.\u001b[0m\u001b[0mgetcwd\u001b[0m\u001b[1;33m(\u001b[0m\u001b[1;33m)\u001b[0m\u001b[1;33m,\u001b[0m\u001b[1;34m'out'\u001b[0m\u001b[1;33m,\u001b[0m\u001b[1;34m'labels_Y'\u001b[0m\u001b[1;33m)\u001b[0m\u001b[1;33m)\u001b[0m\u001b[1;33m\u001b[0m\u001b[1;33m\u001b[0m\u001b[0m\n\u001b[0;32m      2\u001b[0m \u001b[0mX_low\u001b[0m\u001b[1;33m=\u001b[0m\u001b[0mnp\u001b[0m\u001b[1;33m.\u001b[0m\u001b[0mloadtxt\u001b[0m\u001b[1;33m(\u001b[0m\u001b[0mos\u001b[0m\u001b[1;33m.\u001b[0m\u001b[0mpath\u001b[0m\u001b[1;33m.\u001b[0m\u001b[0mjoin\u001b[0m\u001b[1;33m(\u001b[0m\u001b[0mos\u001b[0m\u001b[1;33m.\u001b[0m\u001b[0mgetcwd\u001b[0m\u001b[1;33m(\u001b[0m\u001b[1;33m)\u001b[0m\u001b[1;33m,\u001b[0m\u001b[1;34m'out'\u001b[0m\u001b[1;33m,\u001b[0m\u001b[1;34m'low_X'\u001b[0m\u001b[1;33m)\u001b[0m\u001b[1;33m)\u001b[0m\u001b[1;33m\u001b[0m\u001b[1;33m\u001b[0m\u001b[0m\n\u001b[1;32m----> 3\u001b[1;33m \u001b[0mLDA_self\u001b[0m\u001b[1;33m.\u001b[0m\u001b[0mFiscLDA\u001b[0m\u001b[1;33m(\u001b[0m\u001b[0mX_low\u001b[0m\u001b[1;33m,\u001b[0m\u001b[0mY\u001b[0m\u001b[1;33m)\u001b[0m\u001b[1;33m\u001b[0m\u001b[1;33m\u001b[0m\u001b[0m\n\u001b[0m",
      "\u001b[1;31mAttributeError\u001b[0m: module 'LDA_self' has no attribute 'FiscLDA'"
     ]
    }
   ],
   "source": [
    "Y=np.loadtxt(os.path.join(os.getcwd(),'out','labels_Y'))\n",
    "X_low=np.loadtxt(os.path.join(os.getcwd(),'out','low_X'))\n",
    "LDA_self.FiscLDA(X_low,Y)"
   ]
  },
  {
   "cell_type": "code",
   "execution_count": 23,
   "id": "56e3f80e",
   "metadata": {},
   "outputs": [],
   "source": [
    "from src.import_file import *\n",
    "Y=np.loadtxt(os.path.join(os.getcwd(),'out','labels_Y'))\n",
    "X_low=np.loadtxt(os.path.join(os.getcwd(),'out','low_X'))\n",
    "def FiscLDA(X_low,Y):\n",
    "    happy_index=np.where(Y==1)[0]\n",
    "    sad_index=np.where(Y==0)[0]\n",
    "\n",
    "    ''' Dimensions\n",
    "    X_happ = N_samples_happ x low_dim\n",
    "    X_sad = N_samples_sad x low_dim\n",
    "    '''\n",
    "    X_happ=X_low[happy_index]\n",
    "    X_sad=X_low[sad_index]\n",
    "\n",
    "    mean_happ=np.mean(X_happ, axis=0)\n",
    "    mean_sad=np.mean(X_sad,axis=0)\n",
    "\n",
    "    Scatter_between=np.outer(mean_sad-mean_happ,mean_sad-mean_happ)\n",
    "\n",
    "    Sw1=np.matmul((X_happ-mean_happ).T,(X_happ-mean_happ))/X_happ.shape[1]\n",
    "    Sw2=np.matmul((X_sad-mean_sad).T,(X_sad-mean_sad))/X_sad.shape[1]\n",
    "    Scatter_within=Sw1+Sw2\n",
    "    Swb=np.matmul(LA.inv(Scatter_within),Scatter_between)\n",
    "    Lval, Lvec = LA.eig(Swb)\n",
    "    L_inc_idx=np.argsort(Lval)\n",
    "    L_dec_idx=np.flip(L_inc_idx)\n",
    "    W=Lvec[:,L_dec_idx][:,0:1].real\n",
    "\n",
    "    Xhap1=np.matmul(X_happ,W)\n",
    "    Xsad1=np.matmul(X_sad,W)\n",
    "    thresh=(np.mean(Xhap1)+np.mean(Xsad1))/2\n",
    "\n",
    "    plt.plot(Xhap1,'g')\n",
    "    plt.plot(np.full(11,thresh),'b')\n",
    "    plt.plot(Xsad1,'r')\n",
    "    return "
   ]
  },
  {
   "cell_type": "code",
   "execution_count": 24,
   "id": "e923cb3e",
   "metadata": {},
   "outputs": [
    {
     "data": {
      "image/png": "[encoded data removed]",
      "text/plain": [
       "<Figure size 432x288 with 1 Axes>"
      ]
     },
     "metadata": {
      "needs_background": "light"
     },
     "output_type": "display_data"
    }
   ],
   "source": [
    "FiscLDA(X_low,Y)"
   ]
  },
  {
   "cell_type": "code",
   "execution_count": 2,
   "id": "1579149f",
   "metadata": {},
   "outputs": [],
   "source": [
    "from src.import_file import *\n",
    "\n",
    "Y=np.loadtxt(os.path.join(os.getcwd(),'out','labels_Y'))\n",
    "X_low=np.loadtxt(os.path.join(os.getcwd(),'out','low_X'))\n",
    "\n",
    "happy_index=np.where(Y==1)[0]\n",
    "sad_index=np.where(Y==0)[0]\n",
    "\n",
    "''' Dimensions\n",
    "X_happ = N_samples_happ x low_dim\n",
    "X_sad = N_samples_sad x low_dim\n",
    "'''\n",
    "X_happ=X_low[happy_index]\n",
    "X_sad=X_low[sad_index]\n",
    "\n",
    "mean_happ=np.mean(X_happ, axis=0)\n",
    "mean_sad=np.mean(X_sad,axis=0)\n",
    "\n",
    "Scatter_between=np.outer(mean_sad-mean_happ,mean_sad-mean_happ)\n",
    "\n",
    "Sw1=np.matmul((X_happ-mean_happ).T,(X_happ-mean_happ))/X_happ.shape[1]\n",
    "Sw2=np.matmul((X_sad-mean_sad).T,(X_sad-mean_sad))/X_sad.shape[1]\n",
    "Scatter_within=Sw1+Sw2\n",
    "\n",
    "Swb=np.matmul(LA.inv(Scatter_within),Scatter_between)"
   ]
  },
  {
   "cell_type": "code",
   "execution_count": 19,
   "id": "1628b55d",
   "metadata": {},
   "outputs": [
    {
     "data": {
      "text/plain": [
       "[<matplotlib.lines.Line2D at 0x13b4eed8640>]"
      ]
     },
     "execution_count": 19,
     "metadata": {},
     "output_type": "execute_result"
    },
    {
     "data": {
      "image/png": "[encoded data removed]",
      "text/plain": [
       "<Figure size 432x288 with 1 Axes>"
      ]
     },
     "metadata": {
      "needs_background": "light"
     },
     "output_type": "display_data"
    }
   ],
   "source": [
    "\n",
    "Lval, Lvec = LA.eig(Swb)\n",
    "L_inc_idx=np.argsort(Lval)\n",
    "L_dec_idx=np.flip(L_inc_idx)\n",
    "W=Lvec[:,L_dec_idx][:,0:1].real\n",
    "\n",
    "Xhap1=np.matmul(X_happ,W)\n",
    "Xsad1=np.matmul(X_sad,W)\n",
    "thresh=(np.mean(Xhap1)+np.mean(Xsad1))/2\n",
    "\n",
    "plt.plot(Xhap1,'b')\n",
    "plt.plot(np.full(11,thresh),'g')\n",
    "plt.plot(Xsad1,'r')"
   ]
  },
  {
   "cell_type": "code",
   "execution_count": 13,
   "id": "2a9381ec",
   "metadata": {},
   "outputs": [],
   "source": []
  },
  {
   "cell_type": "code",
   "execution_count": 14,
   "id": "01a67b17",
   "metadata": {},
   "outputs": [
    {
     "data": {
      "text/plain": [
       "-1.6288957922168376e-05"
      ]
     },
     "execution_count": 14,
     "metadata": {},
     "output_type": "execute_result"
    }
   ],
   "source": [
    "sd"
   ]
  },
  {
   "cell_type": "code",
   "execution_count": 16,
   "id": "904c94c0",
   "metadata": {},
   "outputs": [
    {
     "data": {
      "text/plain": [
       "array([-1.62889579e-05, -1.62889579e-05, -1.62889579e-05, -1.62889579e-05,\n",
       "       -1.62889579e-05, -1.62889579e-05, -1.62889579e-05, -1.62889579e-05,\n",
       "       -1.62889579e-05, -1.62889579e-05, -1.62889579e-05])"
      ]
     },
     "execution_count": 16,
     "metadata": {},
     "output_type": "execute_result"
    }
   ],
   "source": []
  },
  {
   "cell_type": "code",
   "execution_count": 124,
   "id": "96c16942",
   "metadata": {},
   "outputs": [
    {
     "data": {
      "text/plain": [
       "(9, 15)"
      ]
     },
     "execution_count": 124,
     "metadata": {},
     "output_type": "execute_result"
    }
   ],
   "source": [
    "X_happ.shape"
   ]
  },
  {
   "cell_type": "code",
   "execution_count": 122,
   "id": "7f8b2947",
   "metadata": {},
   "outputs": [
    {
     "data": {
      "text/plain": [
       "(15, 1)"
      ]
     },
     "execution_count": 122,
     "metadata": {},
     "output_type": "execute_result"
    }
   ],
   "source": [
    "W.shape"
   ]
  },
  {
   "cell_type": "code",
   "execution_count": 99,
   "id": "03defe16",
   "metadata": {},
   "outputs": [
    {
     "data": {
      "text/plain": [
       "array([-1.03336079e-08+0.j, -4.09262761e-08+0.j, -1.39882772e-08+0.j,\n",
       "        4.56570711e-08+0.j,  3.75916173e-08+0.j, -8.49496365e-08+0.j,\n",
       "       -5.99129969e-09+0.j,  1.32605871e-07+0.j,  1.00000000e+00+0.j,\n",
       "       -1.70656687e-08+0.j,  1.02757041e-08+0.j,  3.82619533e-09+0.j,\n",
       "        1.35793229e-07+0.j, -1.47506232e-07+0.j,  1.81479054e-07+0.j])"
      ]
     },
     "execution_count": 99,
     "metadata": {},
     "output_type": "execute_result"
    }
   ],
   "source": [
    "Lvec[:,1]"
   ]
  },
  {
   "cell_type": "code",
   "execution_count": 101,
   "id": "cc1c57a7",
   "metadata": {},
   "outputs": [
    {
     "data": {
      "text/plain": [
       "array([ 1,  2,  5,  9, 10,  7,  8,  0, 13, 14, 11, 12,  3,  4,  6],\n",
       "      dtype=int64)"
      ]
     },
     "execution_count": 101,
     "metadata": {},
     "output_type": "execute_result"
    }
   ],
   "source": [
    "L_dec_idx"
   ]
  },
  {
   "cell_type": "code",
   "execution_count": 106,
   "id": "29f3e4d2",
   "metadata": {},
   "outputs": [
    {
     "data": {
      "text/plain": [
       "(15,)"
      ]
     },
     "execution_count": 106,
     "metadata": {},
     "output_type": "execute_result"
    }
   ],
   "source": [
    "Lvec[:,L_dec_idx][:,0].shape"
   ]
  },
  {
   "cell_type": "code",
   "execution_count": 92,
   "id": "6516a8ef",
   "metadata": {},
   "outputs": [
    {
     "data": {
      "text/plain": [
       "array([ 1,  2,  5,  9, 10,  7,  8,  0, 13, 14, 11, 12,  3,  4,  6],\n",
       "      dtype=int64)"
      ]
     },
     "execution_count": 92,
     "metadata": {},
     "output_type": "execute_result"
    }
   ],
   "source": [
    "L_dec_idx"
   ]
  },
  {
   "cell_type": "code",
   "execution_count": 89,
   "id": "a16f894a",
   "metadata": {},
   "outputs": [
    {
     "data": {
      "text/plain": [
       "array([ 0, 48,  0,  0,  0,  0,  0,  0,  0,  0,  0,  0,  0,  0,  0])"
      ]
     },
     "execution_count": 89,
     "metadata": {},
     "output_type": "execute_result"
    }
   ],
   "source": [
    "abs(Lval).astype(int)"
   ]
  },
  {
   "cell_type": "code",
   "execution_count": 76,
   "id": "3a3b9dcf",
   "metadata": {},
   "outputs": [
    {
     "data": {
      "text/plain": [
       "(15, 1)"
      ]
     },
     "execution_count": 76,
     "metadata": {},
     "output_type": "execute_result"
    }
   ],
   "source": [
    "Lvec[:,0:1].shape"
   ]
  },
  {
   "cell_type": "code",
   "execution_count": 77,
   "id": "b61c6c71",
   "metadata": {},
   "outputs": [
    {
     "data": {
      "text/plain": [
       "(20, 15)"
      ]
     },
     "execution_count": 77,
     "metadata": {},
     "output_type": "execute_result"
    }
   ],
   "source": [
    "X_low.shape"
   ]
  },
  {
   "cell_type": "code",
   "execution_count": 80,
   "id": "f2a72e0f",
   "metadata": {},
   "outputs": [
    {
     "data": {
      "text/plain": [
       "(20, 1)"
      ]
     },
     "execution_count": 80,
     "metadata": {},
     "output_type": "execute_result"
    }
   ],
   "source": [
    "X_dim_1=np.matmul(X_low,Lvec[:,0:1])"
   ]
  },
  {
   "cell_type": "code",
   "execution_count": 61,
   "id": "1d8f8a56",
   "metadata": {},
   "outputs": [
    {
     "data": {
      "text/plain": [
       "(15,)"
      ]
     },
     "execution_count": 61,
     "metadata": {},
     "output_type": "execute_result"
    }
   ],
   "source": [
    "eig_val,eig_vec_N=LA.eig(mat_N)\n",
    "increase_idx=np.argsort(eig_val)\n",
    "decrease_idx=np.flip(increase_idx)"
   ]
  },
  {
   "cell_type": "code",
   "execution_count": 64,
   "id": "d5d5be6c",
   "metadata": {},
   "outputs": [
    {
     "data": {
      "text/plain": [
       "array([ 6,  4,  3, 12, 11, 14, 13,  0,  8,  7, 10,  9,  5,  2,  1],\n",
       "      dtype=int64)"
      ]
     },
     "execution_count": 64,
     "metadata": {},
     "output_type": "execute_result"
    }
   ],
   "source": [
    "L_inc_idx"
   ]
  },
  {
   "cell_type": "code",
   "execution_count": 65,
   "id": "199d2e2d",
   "metadata": {},
   "outputs": [
    {
     "data": {
      "text/plain": [
       "array([ 1,  2,  5,  9, 10,  7,  8,  0, 13, 14, 11, 12,  3,  4,  6],\n",
       "      dtype=int64)"
      ]
     },
     "execution_count": 65,
     "metadata": {},
     "output_type": "execute_result"
    }
   ],
   "source": [
    "L_dec_idx"
   ]
  },
  {
   "cell_type": "code",
   "execution_count": 62,
   "id": "cafe57e0",
   "metadata": {},
   "outputs": [
    {
     "data": {
      "text/plain": [
       "array([ 1,  2,  5,  9, 10,  7,  8,  0, 13, 14, 11, 12,  3,  4,  6],\n",
       "      dtype=int64)"
      ]
     },
     "execution_count": 62,
     "metadata": {},
     "output_type": "execute_result"
    }
   ],
   "source": [
    "Lidx"
   ]
  },
  {
   "cell_type": "code",
   "execution_count": 35,
   "id": "b93f9a23",
   "metadata": {},
   "outputs": [],
   "source": [
    "# np.matmul((X_happ_m).T,(X_happ_m))"
   ]
  },
  {
   "cell_type": "code",
   "execution_count": 15,
   "id": "c7c75c82",
   "metadata": {},
   "outputs": [
    {
     "data": {
      "text/plain": [
       "(15,)"
      ]
     },
     "execution_count": 15,
     "metadata": {},
     "output_type": "execute_result"
    }
   ],
   "source": [
    "mean_happ.shape"
   ]
  },
  {
   "cell_type": "code",
   "execution_count": 24,
   "id": "22c0fae2",
   "metadata": {},
   "outputs": [
    {
     "data": {
      "text/plain": [
       "numpy.ndarray"
      ]
     },
     "execution_count": 24,
     "metadata": {},
     "output_type": "execute_result"
    }
   ],
   "source": []
  },
  {
   "cell_type": "code",
   "execution_count": 26,
   "id": "137d8030",
   "metadata": {},
   "outputs": [
    {
     "data": {
      "text/plain": [
       "(9, 15)"
      ]
     },
     "execution_count": 26,
     "metadata": {},
     "output_type": "execute_result"
    }
   ],
   "source": [
    "(X_happ-mean_happ).shape"
   ]
  },
  {
   "cell_type": "code",
   "execution_count": 9,
   "id": "3f1e5999",
   "metadata": {},
   "outputs": [
    {
     "data": {
      "text/plain": [
       "(11, 15)"
      ]
     },
     "execution_count": 9,
     "metadata": {},
     "output_type": "execute_result"
    }
   ],
   "source": [
    "X_sad.shape"
   ]
  },
  {
   "cell_type": "code",
   "execution_count": 62,
   "id": "6125f166",
   "metadata": {},
   "outputs": [
    {
     "data": {
      "text/plain": [
       "(15, 15)"
      ]
     },
     "execution_count": 62,
     "metadata": {},
     "output_type": "execute_result"
    }
   ],
   "source": [
    "Scatter_between.shape"
   ]
  },
  {
   "cell_type": "code",
   "execution_count": 55,
   "id": "e33dfab1",
   "metadata": {},
   "outputs": [
    {
     "data": {
      "text/plain": [
       "array([[0., 1., 2., 3., 4.],\n",
       "       [0., 1., 2., 3., 4.],\n",
       "       [0., 1., 2., 3., 4.],\n",
       "       [0., 1., 2., 3., 4.],\n",
       "       [0., 1., 2., 3., 4.]])"
      ]
     },
     "execution_count": 55,
     "metadata": {},
     "output_type": "execute_result"
    }
   ],
   "source": [
    "np.outer(np.ones(5),np.arange(5))"
   ]
  },
  {
   "cell_type": "code",
   "execution_count": 51,
   "id": "9e2f4918",
   "metadata": {},
   "outputs": [
    {
     "data": {
      "text/plain": [
       "585529.129326413"
      ]
     },
     "execution_count": 51,
     "metadata": {},
     "output_type": "execute_result"
    }
   ],
   "source": [
    "np.dot(mean_sad.T,mean_sad)"
   ]
  },
  {
   "cell_type": "code",
   "execution_count": 34,
   "id": "a3165e41",
   "metadata": {},
   "outputs": [
    {
     "data": {
      "text/plain": [
       "array([[ 0,  1,  5],\n",
       "       [ 8,  9, 13],\n",
       "       [16, 17, 21],\n",
       "       [24, 25, 29]])"
      ]
     },
     "execution_count": 34,
     "metadata": {},
     "output_type": "execute_result"
    }
   ],
   "source": [
    "a[:,[0,1,5]]"
   ]
  },
  {
   "cell_type": "code",
   "execution_count": null,
   "id": "546ba331",
   "metadata": {},
   "outputs": [],
   "source": []
  },
  {
   "cell_type": "code",
   "execution_count": 23,
   "id": "27347cca",
   "metadata": {},
   "outputs": [
    {
     "data": {
      "text/plain": [
       "array([ 2,  3,  5,  6,  8, 10, 12, 14, 15, 17, 19], dtype=int64)"
      ]
     },
     "execution_count": 23,
     "metadata": {},
     "output_type": "execute_result"
    }
   ],
   "source": [
    "sad_index"
   ]
  },
  {
   "cell_type": "code",
   "execution_count": null,
   "id": "e591eecf",
   "metadata": {},
   "outputs": [],
   "source": []
  }
 ],
 "metadata": {
  "kernelspec": {
   "display_name": "Python 3 (ipykernel)",
   "language": "python",
   "name": "python3"
  },
  "language_info": {
   "codemirror_mode": {
    "name": "ipython",
    "version": 3
   },
   "file_extension": ".py",
   "mimetype": "text/x-python",
   "name": "python",
   "nbconvert_exporter": "python",
   "pygments_lexer": "ipython3",
   "version": "3.9.7"
  }
 },
 "nbformat": 4,
 "nbformat_minor": 5
}
