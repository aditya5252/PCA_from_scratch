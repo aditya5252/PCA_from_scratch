{
 "cells": [
  {
   "cell_type": "code",
   "execution_count": 1,
   "id": "c4be081e",
   "metadata": {},
   "outputs": [],
   "source": [
    "from import_file import *\n",
    "import data_read\n",
    "import high_dim_feature_with_labels"
   ]
  },
  {
   "cell_type": "code",
   "execution_count": 2,
   "id": "943de25f",
   "metadata": {},
   "outputs": [],
   "source": [
    "img_list,img_targets=data_read.get_data_()\n",
    "X,Y=high_dim_feature_with_labels.norm_highx_y_(img_list,img_targets)"
   ]
  },
  {
   "cell_type": "code",
   "execution_count": null,
   "id": "d9fea4b7",
   "metadata": {},
   "outputs": [],
   "source": []
  },
  {
   "cell_type": "code",
   "execution_count": 17,
   "id": "a6a9739a",
   "metadata": {},
   "outputs": [],
   "source": []
  }
 ],
 "metadata": {
  "kernelspec": {
   "display_name": "Python 3 (ipykernel)",
   "language": "python",
   "name": "python3"
  },
  "language_info": {
   "codemirror_mode": {
    "name": "ipython",
    "version": 3
   },
   "file_extension": ".py",
   "mimetype": "text/x-python",
   "name": "python",
   "nbconvert_exporter": "python",
   "pygments_lexer": "ipython3",
   "version": "3.9.7"
  }
 },
 "nbformat": 4,
 "nbformat_minor": 5
}
