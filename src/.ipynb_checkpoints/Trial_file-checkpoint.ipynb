{
 "cells": [
  {
   "cell_type": "code",
   "execution_count": 5,
   "id": "f8de2afc",
   "metadata": {},
   "outputs": [],
   "source": [
    "import glob\n",
    "import matplotlib.pyplot as plt\n",
    "data = [(plt.imread(file),file) for file in glob.glob('..\\data\\emotion_classification\\train\\*.gif')]"
   ]
  },
  {
   "cell_type": "code",
   "execution_count": 13,
   "id": "ca61e265",
   "metadata": {},
   "outputs": [
    {
     "data": {
      "text/plain": [
       "<function dir>"
      ]
     },
     "execution_count": 13,
     "metadata": {},
     "output_type": "execute_result"
    }
   ],
   "source": [
    "# plt.imread('..\\\\data\\\\subject01.happ\n"
   ]
  },
  {
   "cell_type": "code",
   "execution_count": 7,
   "id": "75218240",
   "metadata": {},
   "outputs": [
    {
     "data": {
      "text/plain": [
       "['..\\\\data\\\\subject01.happy.gif',\n",
       " '..\\\\data\\\\subject01.sad.gif',\n",
       " '..\\\\data\\\\subject02.happy.gif',\n",
       " '..\\\\data\\\\subject02.sad.gif',\n",
       " '..\\\\data\\\\subject03.happy.gif',\n",
       " '..\\\\data\\\\subject03.sad.gif',\n",
       " '..\\\\data\\\\subject04.happy.gif',\n",
       " '..\\\\data\\\\subject04.sad.gif',\n",
       " '..\\\\data\\\\subject05.happy.gif',\n",
       " '..\\\\data\\\\subject05.sad.gif',\n",
       " '..\\\\data\\\\subject06.happy.gif',\n",
       " '..\\\\data\\\\subject06.sad.gif',\n",
       " '..\\\\data\\\\subject07.happy.gif',\n",
       " '..\\\\data\\\\subject07.sad.gif',\n",
       " '..\\\\data\\\\subject08.happy.gif',\n",
       " '..\\\\data\\\\subject08.sad.gif',\n",
       " '..\\\\data\\\\subject09.happy.gif',\n",
       " '..\\\\data\\\\subject09.sad.gif',\n",
       " '..\\\\data\\\\subject10.happy.gif',\n",
       " '..\\\\data\\\\subject10.sad.gif',\n",
       " '..\\\\data\\\\subject11.happy.gif',\n",
       " '..\\\\data\\\\subject11.sad.gif',\n",
       " '..\\\\data\\\\subject12.happy.gif',\n",
       " '..\\\\data\\\\subject12.sad.gif',\n",
       " '..\\\\data\\\\subject13.happy.gif',\n",
       " '..\\\\data\\\\subject13.sad.gif',\n",
       " '..\\\\data\\\\subject14.happy.gif',\n",
       " '..\\\\data\\\\subject14.sad.gif',\n",
       " '..\\\\data\\\\subject15.happy.gif',\n",
       " '..\\\\data\\\\subject15.sad.gif']"
      ]
     },
     "execution_count": 7,
     "metadata": {},
     "output_type": "execute_result"
    }
   ],
   "source": [
    "glob.glob('..\\data\\*.gif')"
   ]
  },
  {
   "cell_type": "code",
   "execution_count": 4,
   "id": "e7783be5",
   "metadata": {},
   "outputs": [
    {
     "data": {
      "text/plain": [
       "30"
      ]
     },
     "execution_count": 4,
     "metadata": {},
     "output_type": "execute_result"
    }
   ],
   "source": [
    "len(data)"
   ]
  },
  {
   "cell_type": "code",
   "execution_count": 1,
   "id": "c4be081e",
   "metadata": {
    "scrolled": true
   },
   "outputs": [],
   "source": [
    "from import_file import *\n",
    "import data_read\n",
    "import high_dim_feature_with_labels"
   ]
  },
  {
   "cell_type": "code",
   "execution_count": 2,
   "id": "943de25f",
   "metadata": {},
   "outputs": [],
   "source": [
    "img_list,img_targets=data_read.get_data_()\n",
    "X,Y=high_dim_feature_with_labels.norm_highx_y_(img_list,img_targets)"
   ]
  },
  {
   "cell_type": "code",
   "execution_count": 16,
   "id": "7fa27c84",
   "metadata": {},
   "outputs": [
    {
     "data": {
      "text/plain": [
       "30"
      ]
     },
     "execution_count": 16,
     "metadata": {},
     "output_type": "execute_result"
    }
   ],
   "source": [
    "len(img_list)"
   ]
  },
  {
   "cell_type": "code",
   "execution_count": 3,
   "id": "7db158bb",
   "metadata": {},
   "outputs": [],
   "source": [
    "mat_H=np.dot(X,X.T)"
   ]
  },
  {
   "cell_type": "code",
   "execution_count": 4,
   "id": "712f5aa1",
   "metadata": {},
   "outputs": [],
   "source": [
    "def check_symmetric(a, tol=1e-8):\n",
    "    return np.all(np.abs(a-a.T) < tol)"
   ]
  },
  {
   "cell_type": "code",
   "execution_count": 13,
   "id": "cfe568fb",
   "metadata": {},
   "outputs": [
    {
     "data": {
      "text/plain": [
       "(30, 30)"
      ]
     },
     "execution_count": 13,
     "metadata": {},
     "output_type": "execute_result"
    }
   ],
   "source": [
    "mat_H.shape"
   ]
  },
  {
   "cell_type": "code",
   "execution_count": 7,
   "id": "774b5993",
   "metadata": {},
   "outputs": [
    {
     "data": {
      "text/plain": [
       "True"
      ]
     },
     "execution_count": 7,
     "metadata": {},
     "output_type": "execute_result"
    }
   ],
   "source": [
    "# (mat_H==mat_H.T).all()\n",
    "check_symmetric(mat_H)"
   ]
  },
  {
   "cell_type": "code",
   "execution_count": 8,
   "id": "0528197f",
   "metadata": {},
   "outputs": [],
   "source": [
    "'''high_dim_matrix is of dimensions H*H \n",
    "Its Eigenvectors will be of dimension H*1\n",
    "Preserving top K principal components \n",
    "==> Keeping K eigenvectors corresponding to the top K eigenvalues\n",
    "'''\n",
    "eig_val,eig_vec=LA.eig(mat_H)"
   ]
  },
  {
   "cell_type": "code",
   "execution_count": 12,
   "id": "e0eafdc7",
   "metadata": {},
   "outputs": [
    {
     "data": {
      "text/plain": [
       "array([1.59545326e+08, 5.05556968e+07, 4.65302558e+07, 3.53732760e+07,\n",
       "       2.21805787e+07, 2.05553412e+07, 1.77341995e+07, 1.54688524e+07,\n",
       "       1.45073589e+07, 1.26704880e+07, 9.95028454e+06, 8.67059109e+06,\n",
       "       8.79962300e-08, 7.81678516e+06, 7.33136570e+06, 6.48258024e+06,\n",
       "       5.92801989e+06, 1.25692544e+06, 5.47211353e+06, 1.73947041e+06,\n",
       "       1.97567978e+06, 2.14738785e+06, 2.52622918e+06, 2.81929918e+06,\n",
       "       3.02744598e+06, 3.50228455e+06, 3.89009765e+06, 4.79504600e+06,\n",
       "       4.36710304e+06, 4.38840912e+06])"
      ]
     },
     "execution_count": 12,
     "metadata": {},
     "output_type": "execute_result"
    }
   ],
   "source": [
    "eig_val"
   ]
  },
  {
   "cell_type": "code",
   "execution_count": 12,
   "id": "94600a21",
   "metadata": {},
   "outputs": [
    {
     "data": {
      "text/plain": [
       "(array([1., 3., 2.]),\n",
       " array([[1., 0., 0.],\n",
       "        [0., 1., 0.],\n",
       "        [0., 0., 1.]]))"
      ]
     },
     "execution_count": 12,
     "metadata": {},
     "output_type": "execute_result"
    }
   ],
   "source": [
    "np.linalg.eig(i1)"
   ]
  },
  {
   "cell_type": "code",
   "execution_count": 15,
   "id": "26cc3d58",
   "metadata": {},
   "outputs": [
    {
     "data": {
      "text/plain": [
       "False"
      ]
     },
     "execution_count": 15,
     "metadata": {},
     "output_type": "execute_result"
    }
   ],
   "source": [
    "np.array_equal(X,X.T)"
   ]
  },
  {
   "cell_type": "code",
   "execution_count": 16,
   "id": "f19a6d8d",
   "metadata": {},
   "outputs": [],
   "source": [
    "def check_symmetric(a, tol=1e-8):\n",
    "    return np.all(np.abs(a-a.T) < tol)"
   ]
  },
  {
   "cell_type": "code",
   "execution_count": 17,
   "id": "daef7833",
   "metadata": {},
   "outputs": [
    {
     "ename": "ValueError",
     "evalue": "operands could not be broadcast together with shapes (30,10201) (10201,30) ",
     "output_type": "error",
     "traceback": [
      "\u001b[1;31m---------------------------------------------------------------------------\u001b[0m",
      "\u001b[1;31mValueError\u001b[0m                                Traceback (most recent call last)",
      "\u001b[1;32m~\\AppData\\Local\\Temp/ipykernel_9168/2723110792.py\u001b[0m in \u001b[0;36m<module>\u001b[1;34m\u001b[0m\n\u001b[1;32m----> 1\u001b[1;33m \u001b[0mcheck_symmetric\u001b[0m\u001b[1;33m(\u001b[0m\u001b[0mX\u001b[0m\u001b[1;33m)\u001b[0m\u001b[1;33m\u001b[0m\u001b[1;33m\u001b[0m\u001b[0m\n\u001b[0m",
      "\u001b[1;32m~\\AppData\\Local\\Temp/ipykernel_9168/1862437533.py\u001b[0m in \u001b[0;36mcheck_symmetric\u001b[1;34m(a, tol)\u001b[0m\n\u001b[0;32m      1\u001b[0m \u001b[1;32mdef\u001b[0m \u001b[0mcheck_symmetric\u001b[0m\u001b[1;33m(\u001b[0m\u001b[0ma\u001b[0m\u001b[1;33m,\u001b[0m \u001b[0mtol\u001b[0m\u001b[1;33m=\u001b[0m\u001b[1;36m1e-8\u001b[0m\u001b[1;33m)\u001b[0m\u001b[1;33m:\u001b[0m\u001b[1;33m\u001b[0m\u001b[1;33m\u001b[0m\u001b[0m\n\u001b[1;32m----> 2\u001b[1;33m     \u001b[1;32mreturn\u001b[0m \u001b[0mnp\u001b[0m\u001b[1;33m.\u001b[0m\u001b[0mall\u001b[0m\u001b[1;33m(\u001b[0m\u001b[0mnp\u001b[0m\u001b[1;33m.\u001b[0m\u001b[0mabs\u001b[0m\u001b[1;33m(\u001b[0m\u001b[0ma\u001b[0m\u001b[1;33m-\u001b[0m\u001b[0ma\u001b[0m\u001b[1;33m.\u001b[0m\u001b[0mT\u001b[0m\u001b[1;33m)\u001b[0m \u001b[1;33m<\u001b[0m \u001b[0mtol\u001b[0m\u001b[1;33m)\u001b[0m\u001b[1;33m\u001b[0m\u001b[1;33m\u001b[0m\u001b[0m\n\u001b[0m",
      "\u001b[1;31mValueError\u001b[0m: operands could not be broadcast together with shapes (30,10201) (10201,30) "
     ]
    }
   ],
   "source": [
    "check_symmetric(X)"
   ]
  },
  {
   "cell_type": "code",
   "execution_count": null,
   "id": "203894a2",
   "metadata": {},
   "outputs": [],
   "source": []
  }
 ],
 "metadata": {
  "kernelspec": {
   "display_name": "Python 3 (ipykernel)",
   "language": "python",
   "name": "python3"
  },
  "language_info": {
   "codemirror_mode": {
    "name": "ipython",
    "version": 3
   },
   "file_extension": ".py",
   "mimetype": "text/x-python",
   "name": "python",
   "nbconvert_exporter": "python",
   "pygments_lexer": "ipython3",
   "version": "3.9.7"
  }
 },
 "nbformat": 4,
 "nbformat_minor": 5
}
