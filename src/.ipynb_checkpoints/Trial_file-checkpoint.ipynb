{
 "cells": [
  {
   "cell_type": "code",
   "execution_count": 1,
   "id": "c4be081e",
   "metadata": {
    "scrolled": true
   },
   "outputs": [],
   "source": [
    "from import_file import *\n",
    "import data_read\n",
    "import high_dim_feature_with_labels"
   ]
  },
  {
   "cell_type": "code",
   "execution_count": 2,
   "id": "943de25f",
   "metadata": {},
   "outputs": [],
   "source": [
    "img_list,img_targets=data_read.get_data_()\n",
    "N=len(img_targets)\n",
    "X,Y=high_dim_feature_with_labels.norm_highx_y_(img_list,img_targets)\n"
   ]
  },
  {
   "cell_type": "code",
   "execution_count": 3,
   "id": "8d2cc4c0",
   "metadata": {},
   "outputs": [
    {
     "data": {
      "text/plain": [
       "(10, 10201)"
      ]
     },
     "execution_count": 3,
     "metadata": {},
     "output_type": "execute_result"
    }
   ],
   "source": [
    "X.shape"
   ]
  },
  {
   "cell_type": "code",
   "execution_count": 86,
   "id": "a0de5a25",
   "metadata": {},
   "outputs": [
    {
     "data": {
      "text/plain": [
       "'X is of dim N*high_dim'"
      ]
     },
     "execution_count": 86,
     "metadata": {},
     "output_type": "execute_result"
    }
   ],
   "source": []
  },
  {
   "cell_type": "code",
   "execution_count": 4,
   "id": "6a515e81",
   "metadata": {},
   "outputs": [],
   "source": [
    "def pca_scratch_high_dim(X,K,N):\n",
    "    '''\n",
    "    Here I apply High_Dimensional_PCA for dimensionality\n",
    "    reduction.\n",
    "    Function inputs N images each flattened to the dimension high_dim=10201 \n",
    "    which gets reduced to dimension low_dim=K.\n",
    "    X - N*high_dim\n",
    "    K - low_dim\n",
    "    N - no.of.samples\n",
    "    \n",
    "    function returns array of dim N*low_dim\n",
    "    '''\n",
    "    \n",
    "    '''sample_dim_matrix is of dimensions N*N \n",
    "    Its Eigenvectors will be of dimension N*1\n",
    "    Preserving top K principal components \n",
    "    ==> Keeping K eigenvectors corresponding to the top K eigenvalues\n",
    "    '''\n",
    "    mat_N=np.dot(X,X.T)/N\n",
    "    eig_val,eig_vec_N=LA.eig(mat_N)\n",
    "    increase_idx=np.argsort(eig_val)\n",
    "    decrease_idx=np.flip(increase_idx)\n",
    "    eig_vec_D_ls=[(  1/(N*eig_val[i])**0.5  )*np.dot(X.T,eig_vec_N[:,i]) for i in range(N)]\n",
    "    eig_vec_D=np.stack(eig_vec_D_ls)\n",
    "    K_feature_ls=[np.squeeze(np.dot(eig_vec_D[0:K],X[i].reshape(-1,1))) for i in range(N)]\n",
    "    K_feature_arr=np.stack(K_feature_ls)\n",
    "    return K_feature_arr"
   ]
  },
  {
   "cell_type": "code",
   "execution_count": 5,
   "id": "3a6b42c5",
   "metadata": {},
   "outputs": [],
   "source": [
    "z=pca_scratch_high_dim(X,1,N)"
   ]
  },
  {
   "cell_type": "code",
   "execution_count": 7,
   "id": "8b09bb5b",
   "metadata": {},
   "outputs": [
    {
     "data": {
      "text/plain": [
       "array([-5184.16476167,  2257.89170393,  1835.06064546,   646.94882557])"
      ]
     },
     "execution_count": 7,
     "metadata": {},
     "output_type": "execute_result"
    }
   ],
   "source": [
    "##Sad\n",
    "z[Y==0]"
   ]
  },
  {
   "cell_type": "code",
   "execution_count": 6,
   "id": "f4823985",
   "metadata": {},
   "outputs": [
    {
     "data": {
      "text/plain": [
       "array([ -649.34387505,  1606.56559441,  3030.07266023, -4961.92089587,\n",
       "         753.69683074,   665.19327225])"
      ]
     },
     "execution_count": 6,
     "metadata": {},
     "output_type": "execute_result"
    }
   ],
   "source": [
    "z[Y==1]"
   ]
  },
  {
   "cell_type": "code",
   "execution_count": null,
   "id": "c61c24f1",
   "metadata": {},
   "outputs": [],
   "source": [
    "'''If -350<z<2000, then happy = 1 '''"
   ]
  },
  {
   "cell_type": "code",
   "execution_count": 8,
   "id": "9417c69a",
   "metadata": {},
   "outputs": [
    {
     "data": {
      "text/plain": [
       "[<matplotlib.lines.Line2D at 0x1bc96dcefd0>]"
      ]
     },
     "execution_count": 8,
     "metadata": {},
     "output_type": "execute_result"
    },
    {
     "data": {
      "image/png": "[encoded data removed]",
      "text/plain": [
       "<Figure size 432x288 with 1 Axes>"
      ]
     },
     "metadata": {
      "needs_background": "light"
     },
     "output_type": "display_data"
    }
   ],
   "source": [
    "plt.plot(Y,pca_scratch_high_dim(X,1,N),'.')"
   ]
  },
  {
   "cell_type": "code",
   "execution_count": null,
   "id": "76e570e7",
   "metadata": {},
   "outputs": [],
   "source": []
  },
  {
   "cell_type": "code",
   "execution_count": null,
   "id": "b7c2af04",
   "metadata": {},
   "outputs": [],
   "source": []
  },
  {
   "cell_type": "code",
   "execution_count": 95,
   "id": "d96ec8fc",
   "metadata": {},
   "outputs": [
    {
     "data": {
      "text/plain": [
       "[<matplotlib.lines.Line2D at 0x1e3a47411f0>]"
      ]
     },
     "execution_count": 95,
     "metadata": {},
     "output_type": "execute_result"
    },
    {
     "data": {
      "image/png": "[encoded data removed]",
      "text/plain": [
       "<Figure size 432x288 with 1 Axes>"
      ]
     },
     "metadata": {
      "needs_background": "light"
     },
     "output_type": "display_data"
    }
   ],
   "source": [
    "plt.plot(Y,pca_scratch(X,1),'.')"
   ]
  },
  {
   "cell_type": "code",
   "execution_count": null,
   "id": "c8bf160a",
   "metadata": {},
   "outputs": [],
   "source": []
  },
  {
   "cell_type": "code",
   "execution_count": 15,
   "id": "c0818980",
   "metadata": {
    "scrolled": true
   },
   "outputs": [
    {
     "data": {
      "text/plain": [
       "array([ 0,  1,  2,  3,  4,  5,  6,  7,  9, 10, 11, 12, 14, 15, 17, 18, 19,\n",
       "       16, 13,  8], dtype=int64)"
      ]
     },
     "execution_count": 15,
     "metadata": {},
     "output_type": "execute_result"
    }
   ],
   "source": [
    "decrease_idx"
   ]
  },
  {
   "cell_type": "code",
   "execution_count": 16,
   "id": "04e724e5",
   "metadata": {},
   "outputs": [
    {
     "data": {
      "text/plain": [
       "(20, 20)"
      ]
     },
     "execution_count": 16,
     "metadata": {},
     "output_type": "execute_result"
    }
   ],
   "source": [
    "eig_vec_N.shape"
   ]
  },
  {
   "cell_type": "code",
   "execution_count": 29,
   "id": "2120c08a",
   "metadata": {},
   "outputs": [
    {
     "data": {
      "text/plain": [
       "array([[0, 3, 4],\n",
       "       [1, 4, 5],\n",
       "       [2, 5, 6]])"
      ]
     },
     "execution_count": 29,
     "metadata": {},
     "output_type": "execute_result"
    }
   ],
   "source": [
    "np.stack((np.arange(3),np.arange(3,6),np.arange(4,7)),1)"
   ]
  },
  {
   "cell_type": "code",
   "execution_count": 39,
   "id": "ff45f251",
   "metadata": {},
   "outputs": [
    {
     "data": {
      "text/plain": [
       "array([4.06759336e+06, 1.96610731e+06, 1.62346258e+06, 9.66801086e+05,\n",
       "       7.67244620e+05, 7.42652455e+05, 6.27036637e+05, 5.03979384e+05,\n",
       "       6.04609654e-10, 3.93172886e+05, 3.77408962e+05, 3.22550271e+05,\n",
       "       3.13076558e+05, 8.69760076e+04, 2.37484588e+05, 2.11947431e+05,\n",
       "       1.23092610e+05, 1.80493589e+05, 1.69641814e+05, 1.44597825e+05])"
      ]
     },
     "execution_count": 39,
     "metadata": {},
     "output_type": "execute_result"
    }
   ],
   "source": [
    "eig_val"
   ]
  },
  {
   "cell_type": "code",
   "execution_count": 40,
   "id": "8110c557",
   "metadata": {},
   "outputs": [],
   "source": []
  },
  {
   "cell_type": "code",
   "execution_count": 41,
   "id": "20e79cd7",
   "metadata": {},
   "outputs": [],
   "source": []
  },
  {
   "cell_type": "code",
   "execution_count": 83,
   "id": "c5a087fb",
   "metadata": {},
   "outputs": [],
   "source": []
  },
  {
   "cell_type": "code",
   "execution_count": 85,
   "id": "22050f5d",
   "metadata": {},
   "outputs": [
    {
     "data": {
      "text/plain": [
       "(20, 16)"
      ]
     },
     "execution_count": 85,
     "metadata": {},
     "output_type": "execute_result"
    }
   ],
   "source": [
    "K_feature_arr.shape"
   ]
  },
  {
   "cell_type": "code",
   "execution_count": 68,
   "id": "82f7d415",
   "metadata": {},
   "outputs": [
    {
     "data": {
      "text/plain": [
       "(16, 10201)"
      ]
     },
     "execution_count": 68,
     "metadata": {},
     "output_type": "execute_result"
    }
   ],
   "source": [
    "eig_vec_D[0:16].shape"
   ]
  },
  {
   "cell_type": "code",
   "execution_count": 41,
   "id": "5289bbd2",
   "metadata": {},
   "outputs": [
    {
     "data": {
      "text/plain": [
       "1.0000000000000009"
      ]
     },
     "execution_count": 41,
     "metadata": {},
     "output_type": "execute_result"
    }
   ],
   "source": [
    "LA.norm(eig_vec[1])"
   ]
  },
  {
   "cell_type": "code",
   "execution_count": 38,
   "id": "33fb5f22",
   "metadata": {},
   "outputs": [
    {
     "data": {
      "text/plain": [
       "(20, 20)"
      ]
     },
     "execution_count": 38,
     "metadata": {},
     "output_type": "execute_result"
    }
   ],
   "source": [
    "eig_vec[decrease_idx]"
   ]
  },
  {
   "cell_type": "code",
   "execution_count": 21,
   "id": "8e58af02",
   "metadata": {},
   "outputs": [],
   "source": [
    "# mat_N"
   ]
  },
  {
   "cell_type": "code",
   "execution_count": 23,
   "id": "46af5ac5",
   "metadata": {},
   "outputs": [],
   "source": [
    "# mat_N=mat_N/(mat_N.shape[0])"
   ]
  },
  {
   "cell_type": "code",
   "execution_count": 16,
   "id": "3c420ef8",
   "metadata": {},
   "outputs": [],
   "source": [
    "x=np.array([5,30,1])"
   ]
  },
  {
   "cell_type": "code",
   "execution_count": 30,
   "id": "18df434f",
   "metadata": {},
   "outputs": [],
   "source": []
  },
  {
   "cell_type": "code",
   "execution_count": 33,
   "id": "98978795",
   "metadata": {},
   "outputs": [
    {
     "data": {
      "text/plain": [
       "array([1966107.30633274, 4067593.36251474, 1623462.58137244])"
      ]
     },
     "execution_count": 33,
     "metadata": {},
     "output_type": "execute_result"
    }
   ],
   "source": [
    "eig_val[decrease_idx]"
   ]
  },
  {
   "cell_type": "code",
   "execution_count": 29,
   "id": "7a8a8fda",
   "metadata": {},
   "outputs": [
    {
     "data": {
      "text/plain": [
       "array([3, 2, 1, 0])"
      ]
     },
     "execution_count": 29,
     "metadata": {},
     "output_type": "execute_result"
    }
   ],
   "source": [
    "np.flip(np.arange(4))"
   ]
  },
  {
   "cell_type": "code",
   "execution_count": 24,
   "id": "19f0a96d",
   "metadata": {},
   "outputs": [
    {
     "data": {
      "text/plain": [
       "array([30,  5,  1])"
      ]
     },
     "execution_count": 24,
     "metadata": {},
     "output_type": "execute_result"
    }
   ],
   "source": [
    "x[idx]"
   ]
  },
  {
   "cell_type": "code",
   "execution_count": 24,
   "id": "89798ab5",
   "metadata": {},
   "outputs": [],
   "source": [
    "# 2 0 1\n",
    "# mat_N"
   ]
  },
  {
   "cell_type": "code",
   "execution_count": 7,
   "id": "0b5ff6f6",
   "metadata": {},
   "outputs": [
    {
     "data": {
      "text/plain": [
       "True"
      ]
     },
     "execution_count": 7,
     "metadata": {},
     "output_type": "execute_result"
    }
   ],
   "source": [
    "check_symmetric(mat_N)"
   ]
  },
  {
   "cell_type": "code",
   "execution_count": 6,
   "id": "712f5aa1",
   "metadata": {},
   "outputs": [],
   "source": [
    "def check_symmetric(a, tol=1e-8):\n",
    "    return np.all(np.abs(a-a.T) < tol)"
   ]
  },
  {
   "cell_type": "code",
   "execution_count": 13,
   "id": "cfe568fb",
   "metadata": {},
   "outputs": [
    {
     "data": {
      "text/plain": [
       "True"
      ]
     },
     "execution_count": 13,
     "metadata": {},
     "output_type": "execute_result"
    }
   ],
   "source": [
    "(mat_N==mat_N.T).all()"
   ]
  },
  {
   "cell_type": "code",
   "execution_count": 7,
   "id": "774b5993",
   "metadata": {},
   "outputs": [
    {
     "data": {
      "text/plain": [
       "True"
      ]
     },
     "execution_count": 7,
     "metadata": {},
     "output_type": "execute_result"
    }
   ],
   "source": [
    "# (mat_H==mat_H.T).all()\n",
    "check_symmetric(mat_H)"
   ]
  },
  {
   "cell_type": "code",
   "execution_count": 8,
   "id": "0528197f",
   "metadata": {},
   "outputs": [],
   "source": [
    "'''sample_dim_matrix is of dimensions N*N \n",
    "Its Eigenvectors will be of dimension N*1\n",
    "Preserving top K principal components \n",
    "==> Keeping K eigenvectors corresponding to the top K eigenvalues\n",
    "'''\n",
    "eig_val,eig_vec=LA.eig(mat_H)"
   ]
  },
  {
   "cell_type": "code",
   "execution_count": 12,
   "id": "e0eafdc7",
   "metadata": {},
   "outputs": [
    {
     "data": {
      "text/plain": [
       "array([1.59545326e+08, 5.05556968e+07, 4.65302558e+07, 3.53732760e+07,\n",
       "       2.21805787e+07, 2.05553412e+07, 1.77341995e+07, 1.54688524e+07,\n",
       "       1.45073589e+07, 1.26704880e+07, 9.95028454e+06, 8.67059109e+06,\n",
       "       8.79962300e-08, 7.81678516e+06, 7.33136570e+06, 6.48258024e+06,\n",
       "       5.92801989e+06, 1.25692544e+06, 5.47211353e+06, 1.73947041e+06,\n",
       "       1.97567978e+06, 2.14738785e+06, 2.52622918e+06, 2.81929918e+06,\n",
       "       3.02744598e+06, 3.50228455e+06, 3.89009765e+06, 4.79504600e+06,\n",
       "       4.36710304e+06, 4.38840912e+06])"
      ]
     },
     "execution_count": 12,
     "metadata": {},
     "output_type": "execute_result"
    }
   ],
   "source": [
    "eig_val"
   ]
  },
  {
   "cell_type": "code",
   "execution_count": 12,
   "id": "94600a21",
   "metadata": {},
   "outputs": [
    {
     "data": {
      "text/plain": [
       "(array([1., 3., 2.]),\n",
       " array([[1., 0., 0.],\n",
       "        [0., 1., 0.],\n",
       "        [0., 0., 1.]]))"
      ]
     },
     "execution_count": 12,
     "metadata": {},
     "output_type": "execute_result"
    }
   ],
   "source": [
    "np.linalg.eig(i1)"
   ]
  },
  {
   "cell_type": "code",
   "execution_count": 15,
   "id": "26cc3d58",
   "metadata": {},
   "outputs": [
    {
     "data": {
      "text/plain": [
       "False"
      ]
     },
     "execution_count": 15,
     "metadata": {},
     "output_type": "execute_result"
    }
   ],
   "source": [
    "np.array_equal(X,X.T)"
   ]
  },
  {
   "cell_type": "code",
   "execution_count": 16,
   "id": "f19a6d8d",
   "metadata": {},
   "outputs": [],
   "source": [
    "def check_symmetric(a, tol=1e-8):\n",
    "    return np.all(np.abs(a-a.T) < tol)"
   ]
  },
  {
   "cell_type": "code",
   "execution_count": 17,
   "id": "daef7833",
   "metadata": {},
   "outputs": [
    {
     "ename": "ValueError",
     "evalue": "operands could not be broadcast together with shapes (30,10201) (10201,30) ",
     "output_type": "error",
     "traceback": [
      "\u001b[1;31m---------------------------------------------------------------------------\u001b[0m",
      "\u001b[1;31mValueError\u001b[0m                                Traceback (most recent call last)",
      "\u001b[1;32m~\\AppData\\Local\\Temp/ipykernel_9168/2723110792.py\u001b[0m in \u001b[0;36m<module>\u001b[1;34m\u001b[0m\n\u001b[1;32m----> 1\u001b[1;33m \u001b[0mcheck_symmetric\u001b[0m\u001b[1;33m(\u001b[0m\u001b[0mX\u001b[0m\u001b[1;33m)\u001b[0m\u001b[1;33m\u001b[0m\u001b[1;33m\u001b[0m\u001b[0m\n\u001b[0m",
      "\u001b[1;32m~\\AppData\\Local\\Temp/ipykernel_9168/1862437533.py\u001b[0m in \u001b[0;36mcheck_symmetric\u001b[1;34m(a, tol)\u001b[0m\n\u001b[0;32m      1\u001b[0m \u001b[1;32mdef\u001b[0m \u001b[0mcheck_symmetric\u001b[0m\u001b[1;33m(\u001b[0m\u001b[0ma\u001b[0m\u001b[1;33m,\u001b[0m \u001b[0mtol\u001b[0m\u001b[1;33m=\u001b[0m\u001b[1;36m1e-8\u001b[0m\u001b[1;33m)\u001b[0m\u001b[1;33m:\u001b[0m\u001b[1;33m\u001b[0m\u001b[1;33m\u001b[0m\u001b[0m\n\u001b[1;32m----> 2\u001b[1;33m     \u001b[1;32mreturn\u001b[0m \u001b[0mnp\u001b[0m\u001b[1;33m.\u001b[0m\u001b[0mall\u001b[0m\u001b[1;33m(\u001b[0m\u001b[0mnp\u001b[0m\u001b[1;33m.\u001b[0m\u001b[0mabs\u001b[0m\u001b[1;33m(\u001b[0m\u001b[0ma\u001b[0m\u001b[1;33m-\u001b[0m\u001b[0ma\u001b[0m\u001b[1;33m.\u001b[0m\u001b[0mT\u001b[0m\u001b[1;33m)\u001b[0m \u001b[1;33m<\u001b[0m \u001b[0mtol\u001b[0m\u001b[1;33m)\u001b[0m\u001b[1;33m\u001b[0m\u001b[1;33m\u001b[0m\u001b[0m\n\u001b[0m",
      "\u001b[1;31mValueError\u001b[0m: operands could not be broadcast together with shapes (30,10201) (10201,30) "
     ]
    }
   ],
   "source": [
    "check_symmetric(X)"
   ]
  },
  {
   "cell_type": "code",
   "execution_count": null,
   "id": "203894a2",
   "metadata": {},
   "outputs": [],
   "source": []
  }
 ],
 "metadata": {
  "kernelspec": {
   "display_name": "Python 3 (ipykernel)",
   "language": "python",
   "name": "python3"
  },
  "language_info": {
   "codemirror_mode": {
    "name": "ipython",
    "version": 3
   },
   "file_extension": ".py",
   "mimetype": "text/x-python",
   "name": "python",
   "nbconvert_exporter": "python",
   "pygments_lexer": "ipython3",
   "version": "3.9.7"
  }
 },
 "nbformat": 4,
 "nbformat_minor": 5
}
