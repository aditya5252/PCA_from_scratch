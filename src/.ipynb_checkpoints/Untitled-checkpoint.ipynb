{
 "cells": [
  {
   "cell_type": "code",
   "execution_count": 1,
   "id": "2f7bf21e",
   "metadata": {},
   "outputs": [],
   "source": [
    "'''Variable nomenclature improve'''\n",
    "import glob\n",
    "import matplotlib.pyplot as plt\n",
    "data = [(plt.imread(file),file) for file in glob.glob('..\\data\\*.gif')]\n",
    "img_list=[]\n",
    "img_targets=[]\n",
    "for dat in data :\n",
    "    img_list.append(dat[0])    \n",
    "    img_targets.append(dat[1])\n"
   ]
  },
  {
   "cell_type": "code",
   "execution_count": 3,
   "id": "1276b6db",
   "metadata": {},
   "outputs": [
    {
     "data": {
      "text/plain": [
       "['..\\\\data\\\\subject01.happy.gif',\n",
       " '..\\\\data\\\\subject01.sad.gif',\n",
       " '..\\\\data\\\\subject02.happy.gif',\n",
       " '..\\\\data\\\\subject02.sad.gif',\n",
       " '..\\\\data\\\\subject03.happy.gif',\n",
       " '..\\\\data\\\\subject03.sad.gif',\n",
       " '..\\\\data\\\\subject04.happy.gif',\n",
       " '..\\\\data\\\\subject04.sad.gif',\n",
       " '..\\\\data\\\\subject05.happy.gif',\n",
       " '..\\\\data\\\\subject05.sad.gif',\n",
       " '..\\\\data\\\\subject06.happy.gif',\n",
       " '..\\\\data\\\\subject06.sad.gif',\n",
       " '..\\\\data\\\\subject07.happy.gif',\n",
       " '..\\\\data\\\\subject07.sad.gif',\n",
       " '..\\\\data\\\\subject08.happy.gif',\n",
       " '..\\\\data\\\\subject08.sad.gif',\n",
       " '..\\\\data\\\\subject09.happy.gif',\n",
       " '..\\\\data\\\\subject09.sad.gif',\n",
       " '..\\\\data\\\\subject10.happy.gif',\n",
       " '..\\\\data\\\\subject10.sad.gif',\n",
       " '..\\\\data\\\\subject11.happy.gif',\n",
       " '..\\\\data\\\\subject11.sad.gif',\n",
       " '..\\\\data\\\\subject12.happy.gif',\n",
       " '..\\\\data\\\\subject12.sad.gif',\n",
       " '..\\\\data\\\\subject13.happy.gif',\n",
       " '..\\\\data\\\\subject13.sad.gif',\n",
       " '..\\\\data\\\\subject14.happy.gif',\n",
       " '..\\\\data\\\\subject14.sad.gif',\n",
       " '..\\\\data\\\\subject15.happy.gif',\n",
       " '..\\\\data\\\\subject15.sad.gif']"
      ]
     },
     "execution_count": 3,
     "metadata": {},
     "output_type": "execute_result"
    }
   ],
   "source": [
    "img_targets"
   ]
  },
  {
   "cell_type": "code",
   "execution_count": null,
   "id": "db773ded",
   "metadata": {},
   "outputs": [],
   "source": []
  },
  {
   "cell_type": "code",
   "execution_count": 1,
   "id": "262307f1",
   "metadata": {},
   "outputs": [],
   "source": [
    "import glob, os\n"
   ]
  },
  {
   "cell_type": "code",
   "execution_count": 2,
   "id": "a5588efd",
   "metadata": {},
   "outputs": [
    {
     "data": {
      "text/plain": [
       "'D:\\\\IISC_mat\\\\MLSP\\\\Assignment1\\\\GitRepo\\\\PCA_from_scratch\\\\src'"
      ]
     },
     "execution_count": 2,
     "metadata": {},
     "output_type": "execute_result"
    }
   ],
   "source": [
    "pwd"
   ]
  },
  {
   "cell_type": "code",
   "execution_count": 3,
   "id": "1359df73",
   "metadata": {},
   "outputs": [],
   "source": [
    "os.chdir(\"..\")\n",
    "for file in glob.glob(\"*.txt\"):\n",
    "    print(file)"
   ]
  },
  {
   "cell_type": "code",
   "execution_count": 1,
   "id": "6b6afa7d",
   "metadata": {},
   "outputs": [
    {
     "data": {
      "text/plain": [
       "'D:\\\\IISC_mat\\\\MLSP\\\\Assignment1\\\\GitRepo\\\\PCA_from_scratch\\\\src'"
      ]
     },
     "execution_count": 1,
     "metadata": {},
     "output_type": "execute_result"
    }
   ],
   "source": [
    "pwd"
   ]
  },
  {
   "cell_type": "code",
   "execution_count": 2,
   "id": "f1f6781b",
   "metadata": {},
   "outputs": [],
   "source": []
  },
  {
   "cell_type": "code",
   "execution_count": 12,
   "id": "61ec4989",
   "metadata": {},
   "outputs": [],
   "source": []
  },
  {
   "cell_type": "code",
   "execution_count": 13,
   "id": "c251221e",
   "metadata": {},
   "outputs": [
    {
     "data": {
      "text/plain": [
       "[None,\n",
       " None,\n",
       " None,\n",
       " None,\n",
       " None,\n",
       " None,\n",
       " None,\n",
       " None,\n",
       " None,\n",
       " None,\n",
       " None,\n",
       " None,\n",
       " None,\n",
       " None,\n",
       " None,\n",
       " None,\n",
       " None,\n",
       " None,\n",
       " None,\n",
       " None,\n",
       " None,\n",
       " None,\n",
       " None,\n",
       " None,\n",
       " None,\n",
       " None,\n",
       " None,\n",
       " None,\n",
       " None,\n",
       " None]"
      ]
     },
     "execution_count": 13,
     "metadata": {},
     "output_type": "execute_result"
    }
   ],
   "source": [
    "# for file in glob.glob(\"..\\data\\*.gif\"): \n",
    "#     print(file)\n",
    "[img_list.append(dat[0]) for dat in data]"
   ]
  },
  {
   "cell_type": "code",
   "execution_count": 6,
   "id": "a0344e12",
   "metadata": {},
   "outputs": [
    {
     "data": {
      "text/plain": [
       "[(array([[133, 142, 146, ..., 109, 101,  89],\n",
       "         [139, 145, 147, ..., 114, 105,  94],\n",
       "         [138, 144, 154, ..., 114, 105,  93],\n",
       "         ...,\n",
       "         [170, 138, 118, ...,  96,  97,  95],\n",
       "         [173, 152, 123, ...,  97,  95,  96],\n",
       "         [171, 160, 140, ...,  95,  95,  95]], dtype=uint8),\n",
       "  '..\\\\data\\\\subject01.happy.gif'),\n",
       " (array([[158, 167, 174, ...,  86,  67,  40],\n",
       "         [161, 171, 175, ...,  91,  76,  50],\n",
       "         [163, 171, 176, ...,  91,  78,  51],\n",
       "         ...,\n",
       "         [137, 130, 135, ..., 124, 126, 124],\n",
       "         [157, 136, 129, ..., 119, 121, 117],\n",
       "         [173, 153, 131, ..., 118, 117, 118]], dtype=uint8),\n",
       "  '..\\\\data\\\\subject01.sad.gif'),\n",
       " (array([[115, 115, 117, ...,  75,  74,  68],\n",
       "         [117, 116, 115, ...,  75,  74,  69],\n",
       "         [118, 116, 116, ...,  75,  74,  69],\n",
       "         ...,\n",
       "         [101,  93,  88, ..., 208, 203, 193],\n",
       "         [136,  88,  82, ..., 228, 218, 201],\n",
       "         [157,  98,  88, ..., 220, 227, 213]], dtype=uint8),\n",
       "  '..\\\\data\\\\subject02.happy.gif'),\n",
       " (array([[ 71,  87, 105, ...,  90,  87,  83],\n",
       "         [ 83, 104, 119, ...,  87,  83,  82],\n",
       "         [ 81, 104, 118, ...,  88,  86,  83],\n",
       "         ...,\n",
       "         [255, 255, 251, ...,  66,  66,  69],\n",
       "         [255, 255, 255, ...,  64,  65,  68],\n",
       "         [255, 255, 255, ...,  65,  66,  71]], dtype=uint8),\n",
       "  '..\\\\data\\\\subject02.sad.gif'),\n",
       " (array([[ 52,  64,  75, ...,  30,  25,  22],\n",
       "         [ 55,  67,  80, ...,  32,  27,  23],\n",
       "         [ 65,  80,  91, ...,  36,  31,  26],\n",
       "         ...,\n",
       "         [255, 255, 255, ...,  83, 165, 246],\n",
       "         [255, 255, 255, ...,  74, 156, 239],\n",
       "         [255, 255, 255, ...,  60, 136, 224]], dtype=uint8),\n",
       "  '..\\\\data\\\\subject03.happy.gif'),\n",
       " (array([[ 25,  34,  46, ...,  20,  17,  15],\n",
       "         [ 26,  37,  50, ...,  23,  17,  15],\n",
       "         [ 31,  43,  55, ...,  29,  24,  20],\n",
       "         ...,\n",
       "         [255, 255, 255, ..., 152, 215, 255],\n",
       "         [255, 255, 255, ..., 159, 222, 255],\n",
       "         [255, 255, 255, ..., 163, 227, 255]], dtype=uint8),\n",
       "  '..\\\\data\\\\subject03.sad.gif'),\n",
       " (array([[  3,   4,   3, ...,  59,  58,  54],\n",
       "         [  3,   3,   2, ...,  61,  59,  55],\n",
       "         [  4,   4,   3, ...,  61,  59,  57],\n",
       "         ...,\n",
       "         [239, 251, 225, ...,  61,  64,  68],\n",
       "         [218, 243, 248, ...,  59,  65,  75],\n",
       "         [206, 231, 244, ...,  61,  65,  88]], dtype=uint8),\n",
       "  '..\\\\data\\\\subject04.happy.gif'),\n",
       " (array([[  5,   9,   8, ...,  46,  43,  36],\n",
       "         [  8,   6,   5, ...,  47,  43,  37],\n",
       "         [  8,   6,   6, ...,  48,  41,  38],\n",
       "         ...,\n",
       "         [255, 187,  86, ...,  66,  66,  71],\n",
       "         [248, 195, 112, ...,  66,  66,  71],\n",
       "         [250, 203, 118, ...,  65,  67,  76]], dtype=uint8),\n",
       "  '..\\\\data\\\\subject04.sad.gif'),\n",
       " (array([[110, 111, 111, ..., 112, 104, 100],\n",
       "         [107, 109, 112, ..., 107, 103,  98],\n",
       "         [104, 108, 112, ..., 103, 102,  97],\n",
       "         ...,\n",
       "         [128, 116, 121, ...,  71,  73,  74],\n",
       "         [156, 112, 111, ...,  72,  72,  76],\n",
       "         [173, 112, 107, ...,  74,  73,  78]], dtype=uint8),\n",
       "  '..\\\\data\\\\subject05.happy.gif'),\n",
       " (array([[104, 109, 111, ..., 110, 108, 103],\n",
       "         [104, 108, 109, ..., 111, 108, 104],\n",
       "         [101, 104, 105, ..., 105, 104, 103],\n",
       "         ...,\n",
       "         [255, 238, 140, ...,  85,  88,  89],\n",
       "         [255, 246, 149, ...,  85,  86,  88],\n",
       "         [252, 255, 208, ...,  86,  88,  88]], dtype=uint8),\n",
       "  '..\\\\data\\\\subject05.sad.gif'),\n",
       " (array([[60, 62, 62, ..., 75, 76, 78],\n",
       "         [61, 62, 64, ..., 78, 79, 79],\n",
       "         [61, 61, 65, ..., 80, 80, 78],\n",
       "         ...,\n",
       "         [71, 71, 67, ..., 58, 55, 55],\n",
       "         [61, 69, 66, ..., 52, 52, 51],\n",
       "         [58, 69, 65, ..., 52, 51, 50]], dtype=uint8),\n",
       "  '..\\\\data\\\\subject06.happy.gif'),\n",
       " (array([[ 17,  24,  31, ...,  89,  86,  80],\n",
       "         [ 16,  25,  32, ...,  88,  85,  80],\n",
       "         [ 18,  25,  30, ...,  93,  88,  85],\n",
       "         ...,\n",
       "         [153, 172, 186, ...,  59,  62,  64],\n",
       "         [164, 188, 194, ...,  59,  61,  62],\n",
       "         [217, 244, 228, ...,  61,  59,  54]], dtype=uint8),\n",
       "  '..\\\\data\\\\subject06.sad.gif'),\n",
       " (array([[109, 110, 108, ..., 110, 105, 101],\n",
       "         [109, 111, 109, ..., 109, 107, 103],\n",
       "         [115, 116, 110, ..., 105, 111, 110],\n",
       "         ...,\n",
       "         [194,  81,  54, ..., 255, 255, 255],\n",
       "         [204,  87,  54, ..., 255, 255, 255],\n",
       "         [204,  90,  64, ..., 255, 255, 255]], dtype=uint8),\n",
       "  '..\\\\data\\\\subject07.happy.gif'),\n",
       " (array([[ 80,  85,  85, ...,  96, 100, 103],\n",
       "         [ 81,  86,  85, ...,  96,  97, 102],\n",
       "         [ 89,  86,  81, ...,  97,  98, 103],\n",
       "         ...,\n",
       "         [255, 255, 255, ...,  15,  23,  59],\n",
       "         [255, 255, 255, ...,  16,  27,  76],\n",
       "         [255, 255, 255, ...,  20,  32, 138]], dtype=uint8),\n",
       "  '..\\\\data\\\\subject07.sad.gif'),\n",
       " (array([[119, 119, 118, ..., 104, 101, 101],\n",
       "         [123, 123, 121, ...,  97,  98,  98],\n",
       "         [123, 121, 119, ...,  96,  97,  98],\n",
       "         ...,\n",
       "         [208, 200, 229, ...,  59,  62,  66],\n",
       "         [220, 255, 255, ...,  58,  64,  73],\n",
       "         [236, 255, 255, ...,  59,  65,  78]], dtype=uint8),\n",
       "  '..\\\\data\\\\subject08.happy.gif'),\n",
       " (array([[ 53,  69,  86, ..., 136, 133, 131],\n",
       "         [ 68,  83,  97, ..., 129, 130, 131],\n",
       "         [ 64,  81,  91, ..., 131, 129, 130],\n",
       "         ...,\n",
       "         [255, 231, 225, ...,  81,  79,  76],\n",
       "         [209, 222, 251, ...,  79,  76,  72],\n",
       "         [197, 228, 255, ...,  80,  79,  73]], dtype=uint8),\n",
       "  '..\\\\data\\\\subject08.sad.gif'),\n",
       " (array([[100, 103, 108, ...,  81,  68,  59],\n",
       "         [101, 101, 102, ...,  87,  74,  62],\n",
       "         [105, 105, 108, ...,  97,  87,  74],\n",
       "         ...,\n",
       "         [255, 255, 255, ..., 104, 118, 118],\n",
       "         [234, 241, 255, ..., 105, 117, 111],\n",
       "         [206, 225, 213, ..., 109, 117, 103]], dtype=uint8),\n",
       "  '..\\\\data\\\\subject09.happy.gif'),\n",
       " (array([[ 90, 104, 116, ..., 110, 110, 107],\n",
       "         [ 95, 110, 119, ..., 114, 110, 107],\n",
       "         [103, 114, 119, ..., 109, 108, 109],\n",
       "         ...,\n",
       "         [255, 242, 197, ...,  93,  95,  96],\n",
       "         [237, 189, 189, ...,  93,  94,  95],\n",
       "         [182, 208, 243, ...,  89,  91,  93]], dtype=uint8),\n",
       "  '..\\\\data\\\\subject09.sad.gif'),\n",
       " (array([[ 40,  54,  67, ..., 101,  97,  94],\n",
       "         [ 52,  67,  78, ..., 100,  94,  93],\n",
       "         [ 58,  72,  80, ...,  98,  95,  93],\n",
       "         ...,\n",
       "         [255, 255, 255, ...,  33,  33,  33],\n",
       "         [255, 255, 255, ...,  33,  32,  34],\n",
       "         [255, 255, 255, ...,  34,  32,  32]], dtype=uint8),\n",
       "  '..\\\\data\\\\subject10.happy.gif'),\n",
       " (array([[ 26,  37,  50, ...,  90,  83,  82],\n",
       "         [ 29,  39,  51, ...,  90,  83,  81],\n",
       "         [ 36,  48,  61, ...,  94,  89,  87],\n",
       "         ...,\n",
       "         [164, 188, 204, ...,  50,  48,  47],\n",
       "         [157, 156, 166, ...,  46,  46,  46],\n",
       "         [255, 232, 201, ...,  41,  40,  40]], dtype=uint8),\n",
       "  '..\\\\data\\\\subject10.sad.gif'),\n",
       " (array([[ 16,  13,  15, ...,  18,  19,  22],\n",
       "         [ 15,  12,  16, ...,  19,  22,  23],\n",
       "         [ 13,  13,  17, ...,  24,  26,  25],\n",
       "         ...,\n",
       "         [  9,   9,  13, ..., 126, 118, 116],\n",
       "         [ 11,  11,  13, ..., 126, 118, 114],\n",
       "         [ 59,  54,  46, ..., 116, 109, 110]], dtype=uint8),\n",
       "  '..\\\\data\\\\subject11.happy.gif'),\n",
       " (array([[ 17,  18,  18, ...,  23,  32,  37],\n",
       "         [ 18,  18,  17, ...,  30,  39,  36],\n",
       "         [ 18,  19,  19, ...,  38,  45,  38],\n",
       "         ...,\n",
       "         [255, 255, 255, ...,  85,  80,  75],\n",
       "         [255, 255, 255, ...,  82,  79,  72],\n",
       "         [255, 255, 255, ...,  76,  67,  61]], dtype=uint8),\n",
       "  '..\\\\data\\\\subject11.sad.gif'),\n",
       " (array([[ 97, 110, 114, ..., 109, 110, 108],\n",
       "         [ 95, 107, 117, ..., 108, 107, 105],\n",
       "         [ 94, 107, 116, ..., 109, 108, 105],\n",
       "         ...,\n",
       "         [ 80,  82, 121, ...,  96,  94,  91],\n",
       "         [189, 234, 248, ..., 102, 100,  95],\n",
       "         [237, 255, 255, ..., 100, 101,  95]], dtype=uint8),\n",
       "  '..\\\\data\\\\subject12.happy.gif'),\n",
       " (array([[ 65,  76,  83, ..., 109, 112, 110],\n",
       "         [ 62,  75,  87, ...,  95, 107, 108],\n",
       "         [ 61,  75,  89, ...,  76,  94, 103],\n",
       "         ...,\n",
       "         [245, 237, 213, ...,  67,  66,  61],\n",
       "         [255, 255, 239, ...,  58,  58,  57],\n",
       "         [255, 255, 237, ...,  57,  53,  54]], dtype=uint8),\n",
       "  '..\\\\data\\\\subject12.sad.gif'),\n",
       " (array([[ 13,  17,  22, ...,  65,  62,  59],\n",
       "         [ 13,  18,  25, ...,  66,  65,  64],\n",
       "         [ 16,  27,  44, ...,  68,  68,  67],\n",
       "         ...,\n",
       "         [255, 255, 255, ..., 255, 255, 255],\n",
       "         [255, 255, 255, ..., 255, 255, 255],\n",
       "         [255, 255, 255, ..., 255, 255, 255]], dtype=uint8),\n",
       "  '..\\\\data\\\\subject13.happy.gif'),\n",
       " (array([[ 23,  20,  17, ...,  65,  59,  55],\n",
       "         [ 20,  15,  15, ...,  74,  69,  65],\n",
       "         [ 17,  13,  15, ...,  74,  71,  66],\n",
       "         ...,\n",
       "         [255, 255, 255, ..., 110, 189, 255],\n",
       "         [255, 255, 255, ..., 118, 210, 255],\n",
       "         [255, 255, 255, ..., 121, 215, 255]], dtype=uint8),\n",
       "  '..\\\\data\\\\subject13.sad.gif'),\n",
       " (array([[ 18,  27,  26, ...,  83,  82,  80],\n",
       "         [ 23,  32,  32, ...,  86,  85,  82],\n",
       "         [ 23,  34,  36, ...,  85,  85,  81],\n",
       "         ...,\n",
       "         [255, 255, 255, ...,  66,  66,  66],\n",
       "         [255, 255, 255, ...,  65,  64,  62],\n",
       "         [255, 255, 255, ...,  65,  64,  62]], dtype=uint8),\n",
       "  '..\\\\data\\\\subject14.happy.gif'),\n",
       " (array([[ 10,  16,  22, ...,  79,  75,  75],\n",
       "         [ 11,  18,  26, ...,  80,  80,  76],\n",
       "         [ 11,  19,  29, ...,  81,  79,  76],\n",
       "         ...,\n",
       "         [255, 255, 255, ...,  65,  66,  65],\n",
       "         [255, 255, 255, ...,  64,  64,  64],\n",
       "         [255, 255, 255, ...,  62,  64,  62]], dtype=uint8),\n",
       "  '..\\\\data\\\\subject14.sad.gif'),\n",
       " (array([[ 58,  91, 111, ..., 136, 132, 124],\n",
       "         [ 60,  89, 110, ..., 117, 128, 125],\n",
       "         [ 76, 101, 112, ...,  65,  87, 105],\n",
       "         ...,\n",
       "         [255, 255, 255, ...,  37,  43,  53],\n",
       "         [255, 255, 255, ...,  38,  45,  52],\n",
       "         [255, 255, 255, ...,  43,  50,  57]], dtype=uint8),\n",
       "  '..\\\\data\\\\subject15.happy.gif'),\n",
       " (array([[123, 123, 123, ..., 111, 114, 114],\n",
       "         [122, 121, 122, ..., 114, 114, 112],\n",
       "         [123, 122, 122, ..., 115, 111, 111],\n",
       "         ...,\n",
       "         [255, 255, 228, ...,  60,  69,  87],\n",
       "         [255, 255, 255, ...,  65,  74,  95],\n",
       "         [255, 255, 255, ...,  65,  78,  96]], dtype=uint8),\n",
       "  '..\\\\data\\\\subject15.sad.gif')]"
      ]
     },
     "execution_count": 6,
     "metadata": {},
     "output_type": "execute_result"
    }
   ],
   "source": [
    "img_list"
   ]
  },
  {
   "cell_type": "code",
   "execution_count": 28,
   "id": "5f5a6422",
   "metadata": {},
   "outputs": [
    {
     "name": "stdout",
     "output_type": "stream",
     "text": [
      "0 Mukesh 24\n",
      "1 Roni 50\n",
      "2 Chari 18\n"
     ]
    },
    {
     "data": {
      "text/plain": [
       "[None, None, None]"
      ]
     },
     "execution_count": 28,
     "metadata": {},
     "output_type": "execute_result"
    }
   ],
   "source": [
    "\n",
    "names = ['Mukesh', 'Roni', 'Chari']\n",
    "ages = [24, 50, 18]\n",
    " \n",
    "# for i, (name, age) in enumerate(zip(names, ages)):\n",
    "[print(i, name, age) for i, (name, age) in enumerate(zip(names, ages))]"
   ]
  },
  {
   "cell_type": "code",
   "execution_count": 26,
   "id": "7217ac1b",
   "metadata": {},
   "outputs": [
    {
     "name": "stdout",
     "output_type": "stream",
     "text": [
      "0\n",
      "1\n",
      "2\n",
      "3\n",
      "4\n",
      "5\n",
      "6\n",
      "7\n",
      "8\n",
      "9\n",
      "10\n",
      "11\n",
      "12\n",
      "13\n",
      "14\n",
      "15\n",
      "16\n",
      "17\n",
      "18\n",
      "19\n",
      "20\n",
      "21\n",
      "22\n",
      "23\n",
      "24\n",
      "25\n",
      "26\n",
      "27\n",
      "28\n",
      "29\n"
     ]
    }
   ],
   "source": [
    "for i,dat in enumerate(data):\n",
    "    print(i)"
   ]
  },
  {
   "cell_type": "code",
   "execution_count": 15,
   "id": "3c254a52",
   "metadata": {},
   "outputs": [],
   "source": [
    "# plt.imshow(data[19])"
   ]
  },
  {
   "cell_type": "code",
   "execution_count": 7,
   "id": "5da92ac9",
   "metadata": {},
   "outputs": [
    {
     "data": {
      "text/plain": [
       "'D:\\\\IISC_mat\\\\MLSP\\\\Assignment1\\\\GitRepo\\\\PCA_from_scratch\\\\src'"
      ]
     },
     "execution_count": 7,
     "metadata": {},
     "output_type": "execute_result"
    }
   ],
   "source": [
    "pwd"
   ]
  },
  {
   "cell_type": "code",
   "execution_count": null,
   "id": "0c905a35",
   "metadata": {},
   "outputs": [],
   "source": []
  }
 ],
 "metadata": {
  "kernelspec": {
   "display_name": "Python 3 (ipykernel)",
   "language": "python",
   "name": "python3"
  },
  "language_info": {
   "codemirror_mode": {
    "name": "ipython",
    "version": 3
   },
   "file_extension": ".py",
   "mimetype": "text/x-python",
   "name": "python",
   "nbconvert_exporter": "python",
   "pygments_lexer": "ipython3",
   "version": "3.9.7"
  }
 },
 "nbformat": 4,
 "nbformat_minor": 5
}
