{
 "cells": [
  {
   "cell_type": "code",
   "execution_count": null,
   "id": "6b285154",
   "metadata": {},
   "outputs": [],
   "source": [
    "import numpy as np\n",
    "def get_norm_feature_and_label_(img_list,img_targets):\n",
    "    '''This function with return normalized features and the corresponding labels'''\n",
    "    feature_len_long=np.prod(img_list[0].shape)\n",
    "    feature_list=[np.reshape(img,feature_len_long) for img in img_list]\n",
    "    feature_matrix=np.stack(feature_list)\n",
    "    label_list=[0. if 'sad' in target else 1 for target in img_targets]\n",
    "    Y=np.array(label_list)\n",
    "    X=feature_matrix-feature_matrix.mean(0,keepdims=True)\n",
    "    return X,Y"
   ]
  }
 ],
 "metadata": {
  "kernelspec": {
   "display_name": "Python 3 (ipykernel)",
   "language": "python",
   "name": "python3"
  },
  "language_info": {
   "codemirror_mode": {
    "name": "ipython",
    "version": 3
   },
   "file_extension": ".py",
   "mimetype": "text/x-python",
   "name": "python",
   "nbconvert_exporter": "python",
   "pygments_lexer": "ipython3",
   "version": "3.9.7"
  }
 },
 "nbformat": 4,
 "nbformat_minor": 5
}
