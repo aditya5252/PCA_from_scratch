{
 "cells": [
  {
   "cell_type": "code",
   "execution_count": 1,
   "id": "68455d37",
   "metadata": {},
   "outputs": [
    {
     "data": {
      "text/plain": [
       "\"For applying Fisher's LDA, \\nFirst find Feature and corresponding Class\\nThen find Class means \""
      ]
     },
     "execution_count": 1,
     "metadata": {},
     "output_type": "execute_result"
    }
   ],
   "source": [
    "'''For applying Fisher's LDA, \n",
    "First find Feature and corresponding Class\n",
    "Then find Class means '''"
   ]
  },
  {
   "cell_type": "code",
   "execution_count": 2,
   "id": "1579149f",
   "metadata": {},
   "outputs": [],
   "source": [
    "from src.import_file import *"
   ]
  },
  {
   "cell_type": "code",
   "execution_count": 4,
   "id": "07b838b7",
   "metadata": {},
   "outputs": [],
   "source": [
    "Y=np.loadtxt(os.path.join(os.getcwd(),'out','labels_Y'))\n",
    "X_low=np.loadtxt(os.path.join(os.getcwd(),'out','low_X'))"
   ]
  },
  {
   "cell_type": "code",
   "execution_count": 6,
   "id": "f8f9e1a1",
   "metadata": {},
   "outputs": [
    {
     "data": {
      "text/plain": [
       "(20, 15)"
      ]
     },
     "execution_count": 6,
     "metadata": {},
     "output_type": "execute_result"
    }
   ],
   "source": [
    "X_low"
   ]
  },
  {
   "cell_type": "code",
   "execution_count": 7,
   "id": "fdeee292",
   "metadata": {},
   "outputs": [
    {
     "data": {
      "text/plain": [
       "array([1., 1., 0., 0., 1., 0., 0., 1., 0., 1., 0., 1., 0., 1., 0., 0., 1.,\n",
       "       0., 1., 0.])"
      ]
     },
     "execution_count": 7,
     "metadata": {},
     "output_type": "execute_result"
    }
   ],
   "source": [
    "Y"
   ]
  },
  {
   "cell_type": "code",
   "execution_count": 21,
   "id": "78ac453e",
   "metadata": {},
   "outputs": [],
   "source": [
    "happy_index=np.where(Y==1)[0]\n",
    "sad_index=np.where(Y==0)[0]"
   ]
  },
  {
   "cell_type": "code",
   "execution_count": 40,
   "id": "f37b19f9",
   "metadata": {},
   "outputs": [],
   "source": [
    "''' Dimensions\n",
    "X_happ = N_samples_happ x low_dim\n",
    "X_sad = N_samples_sad x low_dim\n",
    "'''\n",
    "X_happ=X_low[happy_index]\n",
    "X_sad=X_low[sad_index]"
   ]
  },
  {
   "cell_type": "code",
   "execution_count": 45,
   "id": "80c32801",
   "metadata": {},
   "outputs": [],
   "source": [
    "mean_happ=np.mean(X_happ, axis=0)\n",
    "mean_sad=np.mean(X_sad,axis=0)"
   ]
  },
  {
   "cell_type": "code",
   "execution_count": 63,
   "id": "9b78bdc0",
   "metadata": {},
   "outputs": [],
   "source": [
    "ty=mean_sad-mean_happ"
   ]
  },
  {
   "cell_type": "code",
   "execution_count": 60,
   "id": "fe8aeb30",
   "metadata": {},
   "outputs": [],
   "source": [
    "Scatter_between=np.outer(mean_sad-mean_happ,mean_sad-mean_happ)"
   ]
  },
  {
   "cell_type": "code",
   "execution_count": null,
   "id": "22c0fae2",
   "metadata": {},
   "outputs": [],
   "source": []
  },
  {
   "cell_type": "code",
   "execution_count": 62,
   "id": "6125f166",
   "metadata": {},
   "outputs": [
    {
     "data": {
      "text/plain": [
       "(15, 15)"
      ]
     },
     "execution_count": 62,
     "metadata": {},
     "output_type": "execute_result"
    }
   ],
   "source": [
    "Scatter_between.shape"
   ]
  },
  {
   "cell_type": "code",
   "execution_count": 55,
   "id": "e33dfab1",
   "metadata": {},
   "outputs": [
    {
     "data": {
      "text/plain": [
       "array([[0., 1., 2., 3., 4.],\n",
       "       [0., 1., 2., 3., 4.],\n",
       "       [0., 1., 2., 3., 4.],\n",
       "       [0., 1., 2., 3., 4.],\n",
       "       [0., 1., 2., 3., 4.]])"
      ]
     },
     "execution_count": 55,
     "metadata": {},
     "output_type": "execute_result"
    }
   ],
   "source": [
    "np.outer(np.ones(5),np.arange(5))"
   ]
  },
  {
   "cell_type": "code",
   "execution_count": 51,
   "id": "9e2f4918",
   "metadata": {},
   "outputs": [
    {
     "data": {
      "text/plain": [
       "585529.129326413"
      ]
     },
     "execution_count": 51,
     "metadata": {},
     "output_type": "execute_result"
    }
   ],
   "source": [
    "np.dot(mean_sad.T,mean_sad)"
   ]
  },
  {
   "cell_type": "code",
   "execution_count": 34,
   "id": "a3165e41",
   "metadata": {},
   "outputs": [
    {
     "data": {
      "text/plain": [
       "array([[ 0,  1,  5],\n",
       "       [ 8,  9, 13],\n",
       "       [16, 17, 21],\n",
       "       [24, 25, 29]])"
      ]
     },
     "execution_count": 34,
     "metadata": {},
     "output_type": "execute_result"
    }
   ],
   "source": [
    "a[:,[0,1,5]]"
   ]
  },
  {
   "cell_type": "code",
   "execution_count": null,
   "id": "546ba331",
   "metadata": {},
   "outputs": [],
   "source": []
  },
  {
   "cell_type": "code",
   "execution_count": 23,
   "id": "27347cca",
   "metadata": {},
   "outputs": [
    {
     "data": {
      "text/plain": [
       "array([ 2,  3,  5,  6,  8, 10, 12, 14, 15, 17, 19], dtype=int64)"
      ]
     },
     "execution_count": 23,
     "metadata": {},
     "output_type": "execute_result"
    }
   ],
   "source": [
    "sad_index"
   ]
  },
  {
   "cell_type": "code",
   "execution_count": null,
   "id": "e591eecf",
   "metadata": {},
   "outputs": [],
   "source": []
  }
 ],
 "metadata": {
  "kernelspec": {
   "display_name": "Python 3 (ipykernel)",
   "language": "python",
   "name": "python3"
  },
  "language_info": {
   "codemirror_mode": {
    "name": "ipython",
    "version": 3
   },
   "file_extension": ".py",
   "mimetype": "text/x-python",
   "name": "python",
   "nbconvert_exporter": "python",
   "pygments_lexer": "ipython3",
   "version": "3.9.7"
  }
 },
 "nbformat": 4,
 "nbformat_minor": 5
}
